{
 "cells": [
  {
   "cell_type": "markdown",
   "metadata": {},
   "source": [
    "___DESAFIO PROJETO ANÁLISE DE DADOS EM PYTHON___"
   ]
  },
  {
   "cell_type": "code",
   "execution_count": 1,
   "metadata": {},
   "outputs": [],
   "source": [
    "import pandas as pd\n",
    "import matplotlib.pyplot as plt\n",
    "from fpdf import FPDF"
   ]
  },
  {
   "cell_type": "code",
   "execution_count": 2,
   "metadata": {},
   "outputs": [
    {
     "name": "stderr",
     "output_type": "stream",
     "text": [
      "C:\\Users\\Gabriela\\AppData\\Local\\Temp\\ipykernel_23744\\2403127950.py:1: DtypeWarning: Columns (17,22,23,24,25,26,27,28,29,30,31,32) have mixed types. Specify dtype option on import or set low_memory=False.\n",
      "  df = pd.read_csv('chamada_regular_sisu_2022_1.csv', sep='|', encoding='latin-1')\n"
     ]
    }
   ],
   "source": [
    "df = pd.read_csv('chamada_regular_sisu_2022_1.csv', sep='|', encoding='latin-1')"
   ]
  },
  {
   "cell_type": "code",
   "execution_count": 3,
   "metadata": {},
   "outputs": [],
   "source": [
    "head_output = df.head().to_string()"
   ]
  },
  {
   "cell_type": "code",
   "execution_count": 4,
   "metadata": {},
   "outputs": [],
   "source": [
    "total_de_inscritos = df.shape[0]"
   ]
  },
  {
   "cell_type": "code",
   "execution_count": 5,
   "metadata": {},
   "outputs": [
    {
     "name": "stdout",
     "output_type": "stream",
     "text": [
      "    ANO  EDICAO  ETAPA         DS_ETAPA  CODIGO_IES  \\\n",
      "0  2022       1      4  CHAMADA REGULAR         593   \n",
      "1  2022       1      4  CHAMADA REGULAR         593   \n",
      "2  2022       1      4  CHAMADA REGULAR         593   \n",
      "3  2022       1      4  CHAMADA REGULAR         593   \n",
      "4  2022       1      4  CHAMADA REGULAR         593   \n",
      "\n",
      "                                            NOME_IES SIGLA_IES UF_IES  \\\n",
      "0  CENTRO FEDERAL DE EDUCAÇÃO TECNOLÓGICA CELSO S...  CEFET/RJ     RJ   \n",
      "1  CENTRO FEDERAL DE EDUCAÇÃO TECNOLÓGICA CELSO S...  CEFET/RJ     RJ   \n",
      "2  CENTRO FEDERAL DE EDUCAÇÃO TECNOLÓGICA CELSO S...  CEFET/RJ     RJ   \n",
      "3  CENTRO FEDERAL DE EDUCAÇÃO TECNOLÓGICA CELSO S...  CEFET/RJ     RJ   \n",
      "4  CENTRO FEDERAL DE EDUCAÇÃO TECNOLÓGICA CELSO S...  CEFET/RJ     RJ   \n",
      "\n",
      "   CODIGO_CAMPUS                NOME_CAMPUS  ... NOTA_L_COM_PESO  \\\n",
      "0           1663  CEFET-RJ - MARIA DA GRAÇA  ...           564,8   \n",
      "1           1663  CEFET-RJ - MARIA DA GRAÇA  ...             650   \n",
      "2           1663  CEFET-RJ - MARIA DA GRAÇA  ...           618,7   \n",
      "3           1663  CEFET-RJ - MARIA DA GRAÇA  ...           543,6   \n",
      "4           1663  CEFET-RJ - MARIA DA GRAÇA  ...           637,8   \n",
      "\n",
      "  NOTA_CH_COM_PESO  NOTA_CN_COM_PESO NOTA_M_COM_PESO NOTA_R_COM_PESO  \\\n",
      "0            600,5            1233,8          2844,4            1740   \n",
      "1            669,9            1236,6          2794,8            1920   \n",
      "2            602,2            1332,6            2716            2640   \n",
      "3            514,6               911          2651,6            1560   \n",
      "4            741,4            1190,8          2686,8            1920   \n",
      "\n",
      "  NOTA_CANDIDATO NOTA_CORTE CLASSIFICACAO APROVADO       MATRICULA  \n",
      "0         634,86     718,99          61.0        N        PENDENTE  \n",
      "1         661,03     718,99          45.0        N        PENDENTE  \n",
      "2         719,05     718,99          14.0        S  NÃO COMPARECEU  \n",
      "3         561,89     718,99          90.0        N        PENDENTE  \n",
      "4         652,44     718,99          51.0        N        PENDENTE  \n",
      "\n",
      "[5 rows x 56 columns]\n",
      "Index(['ANO', 'EDICAO', 'ETAPA', 'DS_ETAPA', 'CODIGO_IES', 'NOME_IES',\n",
      "       'SIGLA_IES', 'UF_IES', 'CODIGO_CAMPUS', 'NOME_CAMPUS', 'UF_CAMPUS',\n",
      "       'MUNICIPIO_CAMPUS', 'CODIGO_CURSO', 'NOME_CURSO', 'GRAU', 'TURNO',\n",
      "       'DS_PERIODICIDADE', 'TP_COTA', 'TIPO_MOD_CONCORRENCIA',\n",
      "       'MOD_CONCORRENCIA', 'QT_VAGAS_CONCORRENCIA', 'PERCENTUAL_BONUS',\n",
      "       'PESO_L', 'PESO_CH', 'PESO_CN', 'PESO_M', 'PESO_R', 'NOTA_MINIMA_L',\n",
      "       'NOTA_MINIMA_CH', 'NOTA_MINIMA_CN', 'NOTA_MINIMA_M', 'NOTA_MINIMA_R',\n",
      "       'MEDIA_MINIMA', 'CPF', 'INSCRICAO_ENEM', 'INSCRITO', 'SEXO',\n",
      "       'DATA_NASCIMENTO', 'UF_CANDIDATO', 'MUNICIPIO_CANDIDATO', 'OPCAO',\n",
      "       'NOTA_L', 'NOTA_CH', 'NOTA_CN', 'NOTA_M', 'NOTA_R', 'NOTA_L_COM_PESO',\n",
      "       'NOTA_CH_COM_PESO', 'NOTA_CN_COM_PESO', 'NOTA_M_COM_PESO',\n",
      "       'NOTA_R_COM_PESO', 'NOTA_CANDIDATO', 'NOTA_CORTE', 'CLASSIFICACAO',\n",
      "       'APROVADO', 'MATRICULA'],\n",
      "      dtype='object')\n"
     ]
    }
   ],
   "source": [
    "print(df.head())\n",
    "print(df.columns)"
   ]
  },
  {
   "cell_type": "code",
   "execution_count": 6,
   "metadata": {},
   "outputs": [],
   "source": [
    "campus_por_estado = df['UF_CAMPUS'].value_counts()\n",
    "\n",
    "campus_por_estado_plot = 'campus_por_estado.png'\n",
    "campus_por_estado.plot(kind='bar')\n",
    "plt.xlabel('UF_CAMPUS')\n",
    "plt.title('Distribuição de Campus por Estado')\n",
    "plt.savefig(campus_por_estado_plot)\n",
    "plt.close()"
   ]
  },
  {
   "cell_type": "code",
   "execution_count": 7,
   "metadata": {},
   "outputs": [],
   "source": [
    "candidato_por_estado = df['UF_CANDIDATO'].value_counts()"
   ]
  },
  {
   "cell_type": "code",
   "execution_count": 8,
   "metadata": {},
   "outputs": [],
   "source": [
    "porcentagens = (candidato_por_estado / total_de_inscritos) * 100\n",
    "\n",
    "candidato_por_estado_plot = 'candidato_por_estado.png'\n",
    "candidato_por_estado.plot(kind='pie', autopct='%1.1f%%')\n",
    "plt.title('Distribuição de Candidatos por Estado')\n",
    "plt.ylabel('')  # Remove o rótulo do eixo Y\n",
    "plt.savefig(candidato_por_estado_plot)\n",
    "plt.close()"
   ]
  },
  {
   "cell_type": "code",
   "execution_count": 9,
   "metadata": {},
   "outputs": [],
   "source": [
    "pdf = FPDF()\n",
    "pdf.set_auto_page_break(auto=True, margin=15)\n",
    "pdf.add_page()"
   ]
  },
  {
   "cell_type": "code",
   "execution_count": 10,
   "metadata": {},
   "outputs": [],
   "source": [
    "pdf.set_font('Arial', 'B', 12)\n",
    "pdf.cell(0, 10, 'Gabriela Rebeca Martins Soares', 2, 1, 'C')\n",
    "\n",
    "pdf.set_font('Arial', 'B', 18)\n",
    "pdf.cell(0, 100, 'Universidades por Estado', 2, 1, 'C')\n",
    "\n",
    "pdf.set_font('Arial', 'B', size=12)\n",
    "pdf.cell(0, 10, 'Análise de Universidades por Estado Mediante a Quantidade de Candidatos Inscritos', ln=True, align='C')\n",
    "pdf.ln(20)"
   ]
  },
  {
   "cell_type": "code",
   "execution_count": 11,
   "metadata": {},
   "outputs": [],
   "source": [
    "pdf.add_page()\n",
    "\n",
    "pdf.set_font('Arial', 'B', size=12)\n",
    "pdf.cell(0, 10, 'Relatório de Inscritos', ln=True, align='C')\n",
    "pdf.set_font('Arial', size=16)\n",
    "pdf.cell(0, 10, f'Total de Inscritos: {total_de_inscritos}', ln=True, align='C')\n",
    "\n",
    "pdf.set_font('Arial', 'B', size=12)\n",
    "pdf.cell(0, 10, 'Quantidade de Universidades por Estado', ln=True, align='C')\n",
    "pdf.image(campus_por_estado_plot, x=10, y=30, w=pdf.w - 20)"
   ]
  },
  {
   "cell_type": "code",
   "execution_count": 12,
   "metadata": {},
   "outputs": [],
   "source": [
    "pdf.add_page()\n",
    "pdf.set_font('Arial', 'B', size=12)\n",
    "pdf.cell(0, 10, 'Quantidade de Candidatos por Estado', ln=True, align='C')\n",
    "pdf.image(candidato_por_estado_plot, x=10, y=30, w=pdf.w - 20)\n",
    "\n",
    "pdf.add_page()\n",
    "pdf.set_font('Arial', 'B', size=12)\n",
    "pdf.cell(0, 10, 'Detalhes de Candidatos por Estado:', ln=True)\n",
    "for estado, quantidade in candidato_por_estado.items():\n",
    "    porcentagem = porcentagens[estado]\n",
    "    pdf.cell(0, 10, f\"{estado}: {quantidade} candidatos ({porcentagem:.1f}%)\", ln=True, align='C')"
   ]
  },
  {
   "cell_type": "code",
   "execution_count": 13,
   "metadata": {},
   "outputs": [
    {
     "name": "stdout",
     "output_type": "stream",
     "text": [
      "PDF gerado com sucesso!\n"
     ]
    }
   ],
   "source": [
    "pdf.output('AnaliseMEC20.pdf')\n",
    "print(\"PDF gerado com sucesso!\")"
   ]
  }
 ],
 "metadata": {
  "kernelspec": {
   "display_name": "Python 3",
   "language": "python",
   "name": "python3"
  },
  "language_info": {
   "codemirror_mode": {
    "name": "ipython",
    "version": 3
   },
   "file_extension": ".py",
   "mimetype": "text/x-python",
   "name": "python",
   "nbconvert_exporter": "python",
   "pygments_lexer": "ipython3",
   "version": "3.12.5"
  }
 },
 "nbformat": 4,
 "nbformat_minor": 2
}
